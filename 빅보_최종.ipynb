{
  "nbformat": 4,
  "nbformat_minor": 0,
  "metadata": {
    "colab": {
      "name": "빅보_최종(fixed만 바꿈).ipynb",
      "provenance": [],
      "collapsed_sections": []
    },
    "kernelspec": {
      "name": "python3",
      "display_name": "Python 3"
    },
    "language_info": {
      "name": "python"
    },
    "accelerator": "TPU"
  },
  "cells": [
    {
      "cell_type": "code",
      "metadata": {
        "colab": {
          "base_uri": "https://localhost:8080/"
        },
        "id": "HcJzTZQJczUS",
        "outputId": "b2a0b13e-725d-4a9d-ee28-f4c92dfdc4fd"
      },
      "source": [
        "#Google Drive Mount\n",
        "from google.colab import drive\n",
        "drive.mount('/content/drive')"
      ],
      "execution_count": 1,
      "outputs": [
        {
          "output_type": "stream",
          "name": "stdout",
          "text": [
            "Mounted at /content/drive\n"
          ]
        }
      ]
    },
    {
      "cell_type": "code",
      "metadata": {
        "id": "KGaiu65iYby1"
      },
      "source": [
        "#Library Import\n",
        "from sklearn.datasets import make_blobs\n",
        "\n",
        "import os\n",
        "import pandas as pd\n",
        "import numpy as np\n",
        "import math\n",
        "import scipy as sp\n",
        "import seaborn as sns\n",
        "import tensorflow as tf\n",
        "import matplotlib.pyplot as plt \n",
        "from warnings import filterwarnings\n",
        "filterwarnings('ignore')\n",
        "%matplotlib inline\n",
        "\n",
        "from keras.models import Sequential,Model\n",
        "from sklearn.svm import SVC \n",
        "from sklearn.linear_model import LogisticRegression\n",
        "from sklearn.ensemble import RandomForestClassifier\n",
        "from sklearn.model_selection import train_test_split\n",
        "from sklearn.metrics import accuracy_score\n",
        "from sklearn.manifold import TSNE\n",
        "from sklearn.cluster import KMeans\n",
        "\n",
        "import torch\n",
        "import torch.nn as nn "
      ],
      "execution_count": 2,
      "outputs": []
    },
    {
      "cell_type": "markdown",
      "metadata": {
        "id": "GNn00EcXZOVy"
      },
      "source": [
        "*`•`* Task 1: Implement data load \n",
        "function for fixed length (10 points)"
      ]
    },
    {
      "cell_type": "code",
      "metadata": {
        "id": "ge-VVqORZQDn",
        "colab": {
          "base_uri": "https://localhost:8080/"
        },
        "outputId": "3a6deb86-d585-4481-dcc7-5f82cb0cb726"
      },
      "source": [
        "data=pd.read_csv('/content/drive/MyDrive/21-2빅데이터보안/train.csv')\n",
        "datas=pd.DataFrame(data.iloc[:,0:])\n",
        "data.columns=list(data.iloc[:,0:].columns)\n",
        "datas['class']=data['class']\n",
        "data_drop=datas.drop('class',axis=1)\n",
        "\n",
        "Xf=data_drop.values\n",
        "Yf=datas['class'] #.map({'M\":1, \"B\":0})\n",
        "\n",
        "print(Xf)\n",
        "print('\\n\\n')\n",
        "print(Yf)"
      ],
      "execution_count": 3,
      "outputs": [
        {
          "output_type": "stream",
          "name": "stdout",
          "text": [
            "[[-1. -1. -1. ... -1. 40. 24.]\n",
            " [-1. -1.  1. ... -1. -1. -1.]\n",
            " [-1. -1.  1. ... -1. -1. -1.]\n",
            " ...\n",
            " [ 1. -1. -1. ... -1. -1. -1.]\n",
            " [-1. -1. -1. ... -1. -1. -1.]\n",
            " [-1. -1. -1. ... -1. -1. -1.]]\n",
            "\n",
            "\n",
            "\n",
            "0       0\n",
            "1       0\n",
            "2       0\n",
            "3       0\n",
            "4       0\n",
            "       ..\n",
            "6386    1\n",
            "6387    1\n",
            "6388    1\n",
            "6389    1\n",
            "6390    1\n",
            "Name: class, Length: 6391, dtype: int64\n"
          ]
        }
      ]
    },
    {
      "cell_type": "markdown",
      "metadata": {
        "id": "p_yT9pOrcwPV"
      },
      "source": [
        "* Task 2: Implement data load function for variable length (25 points)"
      ]
    },
    {
      "cell_type": "code",
      "metadata": {
        "colab": {
          "base_uri": "https://localhost:8080/"
        },
        "id": "MjAtnjQVc4E_",
        "outputId": "8fa26ffa-7bf3-4219-b97d-2e0946d0d919"
      },
      "source": [
        "import glob\n",
        "file_list = sorted(glob.glob('/content/drive/MyDrive/21-2빅데이터보안/data/*.csv'))\n",
        "\n",
        "#'Malicious:1' 150 files, 'Benign:0' 150 files\n",
        "print(len(file_list))"
      ],
      "execution_count": null,
      "outputs": [
        {
          "output_type": "stream",
          "name": "stdout",
          "text": [
            "300\n"
          ]
        }
      ]
    },
    {
      "cell_type": "code",
      "metadata": {
        "id": "87prFujRc4CA"
      },
      "source": [
        "path = '/content/drive/MyDrive/21-2빅데이터보안/data'\n",
        "\n",
        "#Add a list of file names to file_label\n",
        "file_list = os.listdir(path)\n",
        "file_labels = [file for file in file_list]\n",
        "print(file_labels)"
      ],
      "execution_count": null,
      "outputs": []
    },
    {
      "cell_type": "code",
      "metadata": {
        "id": "cXjHVoKedH5g"
      },
      "source": [
        "#Add a label for files to Y\n",
        "#Malicious:1, Benign:0\n",
        "Y = []\n",
        "\n",
        "for i in range(300):\n",
        "  if file_list[i].startswith('0'):\n",
        "    Y.append(0)\n",
        "  else:\n",
        "    Y.append(1)"
      ],
      "execution_count": null,
      "outputs": []
    },
    {
      "cell_type": "code",
      "metadata": {
        "id": "Eq7cMz6hdH47",
        "colab": {
          "base_uri": "https://localhost:8080/"
        },
        "outputId": "7969334e-7c3a-43f7-e017-fb97e5e0f0e9"
      },
      "source": [
        "print(Y)\n",
        "print(len(Y))"
      ],
      "execution_count": null,
      "outputs": [
        {
          "output_type": "stream",
          "name": "stdout",
          "text": [
            "[1, 1, 1, 1, 1, 1, 1, 1, 1, 1, 1, 1, 1, 1, 1, 1, 1, 1, 1, 1, 1, 1, 1, 1, 1, 1, 1, 1, 1, 1, 1, 1, 1, 1, 1, 1, 1, 1, 1, 1, 1, 1, 1, 1, 1, 1, 1, 1, 1, 1, 1, 1, 1, 1, 1, 1, 1, 1, 1, 1, 1, 1, 1, 1, 1, 1, 1, 1, 1, 1, 1, 1, 1, 1, 1, 1, 1, 1, 1, 1, 1, 1, 1, 1, 1, 1, 1, 1, 1, 1, 1, 1, 1, 1, 1, 1, 1, 1, 1, 1, 1, 1, 1, 1, 1, 1, 1, 1, 1, 1, 1, 1, 1, 1, 1, 1, 1, 1, 1, 1, 1, 1, 1, 1, 1, 1, 1, 1, 1, 1, 1, 1, 1, 1, 1, 1, 1, 1, 1, 1, 1, 1, 1, 1, 1, 0, 0, 0, 0, 1, 0, 0, 1, 1, 1, 1, 0, 0, 0, 0, 0, 0, 0, 0, 0, 0, 0, 0, 0, 0, 0, 0, 0, 0, 0, 0, 0, 0, 0, 0, 0, 0, 0, 0, 0, 0, 0, 0, 0, 0, 0, 0, 0, 0, 0, 0, 0, 0, 0, 0, 0, 0, 0, 0, 0, 0, 0, 0, 0, 0, 0, 0, 0, 0, 0, 0, 0, 0, 0, 0, 0, 0, 0, 0, 0, 0, 0, 0, 0, 0, 0, 0, 0, 0, 0, 0, 0, 0, 0, 0, 0, 0, 0, 0, 0, 0, 0, 0, 0, 0, 0, 0, 0, 0, 0, 0, 0, 0, 0, 0, 0, 0, 0, 0, 0, 0, 0, 0, 0, 0, 0, 0, 0, 0, 0, 0, 0, 0, 0, 0, 0, 0, 0, 0, 0, 0, 0, 0, 0, 0, 0, 0, 0, 0, 0, 0, 0, 0, 0, 0]\n",
            "300\n"
          ]
        }
      ]
    },
    {
      "cell_type": "code",
      "metadata": {
        "colab": {
          "base_uri": "https://localhost:8080/"
        },
        "id": "8SfZot6udBie",
        "outputId": "4f906584-dfaf-444c-b780-5d05c8704c75"
      },
      "source": [
        "#Add a file data to files\n",
        "#Receive files as 2D, convert it back into 1D, and add it to the files array.\n",
        "files = []\n",
        "\n",
        "for i in range(300):\n",
        "    a = pd.read_csv(path+'/'+file_labels[i], encoding='cp1252')\n",
        "    a_2d = a.to_numpy()\n",
        "    a_1d = a_2d.flatten()\n",
        "    files.append(a_1d)\n",
        "    print(i)"
      ],
      "execution_count": null,
      "outputs": [
        {
          "output_type": "stream",
          "name": "stdout",
          "text": [
            "0\n",
            "1\n",
            "2\n",
            "3\n",
            "4\n",
            "5\n",
            "6\n",
            "7\n",
            "8\n",
            "9\n",
            "10\n",
            "11\n",
            "12\n",
            "13\n",
            "14\n",
            "15\n",
            "16\n",
            "17\n",
            "18\n",
            "19\n",
            "20\n",
            "21\n",
            "22\n",
            "23\n",
            "24\n",
            "25\n",
            "26\n",
            "27\n",
            "28\n",
            "29\n",
            "30\n",
            "31\n",
            "32\n",
            "33\n",
            "34\n",
            "35\n",
            "36\n",
            "37\n",
            "38\n",
            "39\n",
            "40\n",
            "41\n",
            "42\n",
            "43\n",
            "44\n",
            "45\n",
            "46\n",
            "47\n",
            "48\n",
            "49\n",
            "50\n",
            "51\n",
            "52\n",
            "53\n",
            "54\n",
            "55\n",
            "56\n",
            "57\n",
            "58\n",
            "59\n",
            "60\n",
            "61\n",
            "62\n",
            "63\n",
            "64\n",
            "65\n",
            "66\n",
            "67\n",
            "68\n",
            "69\n",
            "70\n",
            "71\n",
            "72\n",
            "73\n",
            "74\n",
            "75\n",
            "76\n",
            "77\n",
            "78\n",
            "79\n",
            "80\n",
            "81\n",
            "82\n",
            "83\n",
            "84\n",
            "85\n",
            "86\n",
            "87\n",
            "88\n",
            "89\n",
            "90\n",
            "91\n",
            "92\n",
            "93\n",
            "94\n",
            "95\n",
            "96\n",
            "97\n",
            "98\n",
            "99\n",
            "100\n",
            "101\n",
            "102\n",
            "103\n",
            "104\n",
            "105\n",
            "106\n",
            "107\n",
            "108\n",
            "109\n",
            "110\n",
            "111\n",
            "112\n",
            "113\n",
            "114\n",
            "115\n",
            "116\n",
            "117\n",
            "118\n",
            "119\n",
            "120\n",
            "121\n",
            "122\n",
            "123\n",
            "124\n",
            "125\n",
            "126\n",
            "127\n",
            "128\n",
            "129\n",
            "130\n",
            "131\n",
            "132\n",
            "133\n",
            "134\n",
            "135\n",
            "136\n",
            "137\n",
            "138\n",
            "139\n",
            "140\n",
            "141\n",
            "142\n",
            "143\n",
            "144\n",
            "145\n",
            "146\n",
            "147\n",
            "148\n",
            "149\n",
            "150\n",
            "151\n",
            "152\n",
            "153\n",
            "154\n",
            "155\n",
            "156\n",
            "157\n",
            "158\n",
            "159\n",
            "160\n",
            "161\n",
            "162\n",
            "163\n",
            "164\n",
            "165\n",
            "166\n",
            "167\n",
            "168\n",
            "169\n",
            "170\n",
            "171\n",
            "172\n",
            "173\n",
            "174\n",
            "175\n",
            "176\n",
            "177\n",
            "178\n",
            "179\n",
            "180\n",
            "181\n",
            "182\n",
            "183\n",
            "184\n",
            "185\n",
            "186\n",
            "187\n",
            "188\n",
            "189\n",
            "190\n",
            "191\n",
            "192\n",
            "193\n",
            "194\n",
            "195\n",
            "196\n",
            "197\n",
            "198\n",
            "199\n",
            "200\n",
            "201\n",
            "202\n",
            "203\n",
            "204\n",
            "205\n",
            "206\n",
            "207\n",
            "208\n",
            "209\n",
            "210\n",
            "211\n",
            "212\n",
            "213\n",
            "214\n",
            "215\n",
            "216\n",
            "217\n",
            "218\n",
            "219\n",
            "220\n",
            "221\n",
            "222\n",
            "223\n",
            "224\n",
            "225\n",
            "226\n",
            "227\n",
            "228\n",
            "229\n",
            "230\n",
            "231\n",
            "232\n",
            "233\n",
            "234\n",
            "235\n",
            "236\n",
            "237\n",
            "238\n",
            "239\n",
            "240\n",
            "241\n",
            "242\n",
            "243\n",
            "244\n",
            "245\n",
            "246\n",
            "247\n",
            "248\n",
            "249\n",
            "250\n",
            "251\n",
            "252\n",
            "253\n",
            "254\n",
            "255\n",
            "256\n",
            "257\n",
            "258\n",
            "259\n",
            "260\n",
            "261\n",
            "262\n",
            "263\n",
            "264\n",
            "265\n",
            "266\n",
            "267\n",
            "268\n",
            "269\n",
            "270\n",
            "271\n",
            "272\n",
            "273\n",
            "274\n",
            "275\n",
            "276\n",
            "277\n",
            "278\n",
            "279\n",
            "280\n",
            "281\n",
            "282\n",
            "283\n",
            "284\n",
            "285\n",
            "286\n",
            "287\n",
            "288\n",
            "289\n",
            "290\n",
            "291\n",
            "292\n",
            "293\n",
            "294\n",
            "295\n",
            "296\n",
            "297\n",
            "298\n",
            "299\n"
          ]
        }
      ]
    },
    {
      "cell_type": "code",
      "metadata": {
        "id": "1BACT-oIdH6J",
        "colab": {
          "base_uri": "https://localhost:8080/"
        },
        "outputId": "e68d0f0a-8294-49e9-9a2b-b36d21d75cb2"
      },
      "source": [
        "from keras.preprocessing.sequence import pad_sequences\n",
        "from keras import backend as K\n",
        "\n",
        "#Padding -1 based on the length of the longest file\n",
        "padded_files = pad_sequences(files, value=-1)\n",
        "\n",
        "print(padded_files)\n",
        "padded_files.shape"
      ],
      "execution_count": null,
      "outputs": [
        {
          "output_type": "stream",
          "name": "stdout",
          "text": [
            "[[-1 -1 -1 ...  0  0  0]\n",
            " [-1 -1 -1 ...  0  0  0]\n",
            " [-1 -1 -1 ...  0  0  0]\n",
            " ...\n",
            " [-1 -1 -1 ...  0  0  0]\n",
            " [-1 -1 -1 ...  0  0  0]\n",
            " [-1 -1 -1 ...  0  0  0]]\n"
          ]
        },
        {
          "output_type": "execute_result",
          "data": {
            "text/plain": [
              "(300, 1142761)"
            ]
          },
          "metadata": {},
          "execution_count": 11
        }
      ]
    },
    {
      "cell_type": "code",
      "metadata": {
        "id": "SgXADHJfdV1L"
      },
      "source": [
        "X = np.array(padded_files)\n",
        "Y = np.array(Y)\n",
        "\n",
        "print(X.shape)\n",
        "print(Y.shape)"
      ],
      "execution_count": null,
      "outputs": []
    },
    {
      "cell_type": "markdown",
      "metadata": {
        "id": "x0G5ObHfZclg"
      },
      "source": [
        "• Task 3: Implement K-means clustering or any ML algorithms (25 points)\n"
      ]
    },
    {
      "cell_type": "code",
      "metadata": {
        "id": "7ezbiYmqZhat",
        "colab": {
          "base_uri": "https://localhost:8080/"
        },
        "outputId": "4aea1412-54ea-440c-fa41-38c753a3232e"
      },
      "source": [
        "#data with Fixed length\n",
        "#K-Means Clustering\n",
        "x_trainK, x_testK, y_trainK, y_testK = train_test_split(Xf, Yf, test_size = 0.1, random_state=99)\n",
        "\n",
        "k_means=KMeans(n_clusters=2)\n",
        "k_means.fit(x_trainK)\n",
        "predictK=k_means.predict(x_testK)\n",
        "scoreK=accuracy_score(y_testK, predictK)\n",
        "print('k_means clustering prediction score: %s' % scoreK)\n"
      ],
      "execution_count": 4,
      "outputs": [
        {
          "output_type": "stream",
          "name": "stdout",
          "text": [
            "k_means clustering prediction score: 0.6046875\n"
          ]
        }
      ]
    },
    {
      "cell_type": "code",
      "metadata": {
        "id": "nAIvLYhMeIw1",
        "colab": {
          "base_uri": "https://localhost:8080/"
        },
        "outputId": "17c88762-39d9-4889-b9da-69d091ef5d4a"
      },
      "source": [
        "#data with Variable length\n",
        "#K-Means Clustering\n",
        "x_trainK, x_testK, y_trainK, y_testK = train_test_split(X, Y, test_size = 0.1, random_state=42)\n",
        "\n",
        "k_means=KMeans(n_clusters=2)\n",
        "k_means.fit(x_trainK)\n",
        "predictK=k_means.predict(x_testK)\n",
        "scoreK=accuracy_score(y_testK, predictK)\n",
        "print('k_means clustering prediction score: %s' % scoreK)\n"
      ],
      "execution_count": null,
      "outputs": [
        {
          "output_type": "stream",
          "name": "stdout",
          "text": [
            "k_means clustering prediction score: 0.6666666666666666\n"
          ]
        }
      ]
    },
    {
      "cell_type": "code",
      "metadata": {
        "colab": {
          "base_uri": "https://localhost:8080/"
        },
        "id": "VT9w37UiZWjR",
        "outputId": "3977fa7e-86a3-46aa-e2b6-a203df733686"
      },
      "source": [
        "#data with Fixed length\n",
        "#SVM \n",
        "x_trainSVC, x_testSVC, y_trainSVC, y_testSVC = train_test_split(Xf, Yf, test_size = 0.1, random_state=99)\n",
        "\n",
        "clfSVC=Sequential()\n",
        "clfSVC=SVC(gamma='auto')\n",
        "clfSVC.fit(x_trainSVC, y_trainSVC)\n",
        "predictSVC = clfSVC.predict(x_testSVC)\n",
        "scoreSVC = accuracy_score(y_testSVC, predictSVC)\n",
        "print('svm prediction score: %s' % scoreSVC)"
      ],
      "execution_count": 5,
      "outputs": [
        {
          "output_type": "stream",
          "name": "stdout",
          "text": [
            "svm prediction score: 0.9078125\n"
          ]
        }
      ]
    },
    {
      "cell_type": "code",
      "metadata": {
        "colab": {
          "base_uri": "https://localhost:8080/"
        },
        "id": "LHw_YtXMeg9U",
        "outputId": "97d0b036-d708-443b-92ad-4f20899ec14a"
      },
      "source": [
        "#data with Variable length\n",
        "#SVM\n",
        "x_trainSVC2, x_testSVC2, y_trainSVC2, y_testSVC2 = train_test_split(X, Y, test_size = 0.1, random_state=99)\n",
        "\n",
        "clfSVC2=Sequential()\n",
        "clfSVC2=SVC(gamma='auto')\n",
        "clfSVC2.fit(x_trainSVC2, y_trainSVC2)\n",
        "predictSVC2 = clfSVC2.predict(x_testSVC2)\n",
        "scoreSVC2 = accuracy_score(y_testSVC2, predictSVC2)\n",
        "print('svm prediction score: %s' % scoreSVC2)"
      ],
      "execution_count": null,
      "outputs": [
        {
          "output_type": "stream",
          "name": "stdout",
          "text": [
            "svm prediction score: 0.98\n"
          ]
        }
      ]
    },
    {
      "cell_type": "code",
      "metadata": {
        "colab": {
          "base_uri": "https://localhost:8080/"
        },
        "id": "L-gtZ_1ZcQ3X",
        "outputId": "da9bccf9-10b1-41c7-ae09-3df183013bc3"
      },
      "source": [
        "#data with Fixed length\n",
        "#Logistic Regression\n",
        "x_trainLog, x_testLog, y_trainLog, y_testLog = train_test_split(Xf, Yf, test_size = 0.1, random_state=99)\n",
        "\n",
        "clfLog=Sequential()\n",
        "clfLog=LogisticRegression()\n",
        "clfLog.fit(x_trainLog, y_trainLog)\n",
        "predictLog = clfLog.predict(x_testLog)\n",
        "scoreLog = accuracy_score(y_testLog, predictLog)\n",
        "print('LogisticRegression prediction score: %s' % scoreLog)"
      ],
      "execution_count": 6,
      "outputs": [
        {
          "output_type": "stream",
          "name": "stdout",
          "text": [
            "LogisticRegression prediction score: 0.9890625\n"
          ]
        }
      ]
    },
    {
      "cell_type": "code",
      "metadata": {
        "colab": {
          "base_uri": "https://localhost:8080/"
        },
        "id": "z5Dag22Yezsq",
        "outputId": "31df7a2f-5ad6-49f8-95a7-22ad9f8503ec"
      },
      "source": [
        "#data with Variable length\n",
        "#Logistic Regression\n",
        "x_trainLog2, x_testLog2, y_trainLog2, y_testLog2 = train_test_split(X, Y, test_size = 0.1, random_state=99)\n",
        "\n",
        "clfLog2=Sequential()\n",
        "clfLog2=LogisticRegression()\n",
        "clfLog2.fit(x_trainLog2, y_trainLog2)\n",
        "predictLog2 = clfLog2.predict(x_testLog2)\n",
        "scoreLog2 = accuracy_score(y_testLog2, predictLog2)\n",
        "print('LogisticRegression prediction score: %s' % scoreLog2)"
      ],
      "execution_count": null,
      "outputs": [
        {
          "output_type": "stream",
          "name": "stdout",
          "text": [
            "LogisticRegression prediction score: 1.0\n"
          ]
        }
      ]
    },
    {
      "cell_type": "code",
      "metadata": {
        "colab": {
          "base_uri": "https://localhost:8080/"
        },
        "id": "O0yeAslIcbu9",
        "outputId": "420409b2-69d5-49e1-b65d-1e212f0d3cc9"
      },
      "source": [
        "#data with Fixed length\n",
        "#RandomForest Classifier\n",
        "x_trainRdf, x_testRdf, y_trainRdf, y_testRdf = train_test_split(Xf, Yf, test_size = 0.1, random_state=99)\n",
        "\n",
        "clfRdf=Sequential()\n",
        "clfRdf=RandomForestClassifier()\n",
        "clfRdf.fit(x_trainRdf, y_trainRdf)\n",
        "predictRdf = clfRdf.predict(x_testRdf)\n",
        "scoreRdf = accuracy_score(y_testRdf, predictRdf)\n",
        "print('RandomForestClassifier prediction score: %s' % scoreRdf)"
      ],
      "execution_count": 7,
      "outputs": [
        {
          "output_type": "stream",
          "name": "stdout",
          "text": [
            "RandomForestClassifier prediction score: 1.0\n"
          ]
        }
      ]
    },
    {
      "cell_type": "code",
      "metadata": {
        "colab": {
          "base_uri": "https://localhost:8080/"
        },
        "id": "4eEnw987fA_C",
        "outputId": "68964d7a-1198-4499-f7fc-f1c815b2237c"
      },
      "source": [
        "#data with Variable length\n",
        "#RandomForest Classifier\n",
        "x_trainRdf2, x_testRdf2, y_trainRdf2, y_testRdf2 = train_test_split(X, Y, test_size = 0.1, random_state=99)\n",
        "\n",
        "clfRdf2=Sequential()\n",
        "clfRdf2=RandomForestClassifier()\n",
        "clfRdf2.fit(x_trainRdf2, y_trainRdf2)\n",
        "predictRdf2 = clfRdf2.predict(x_testRdf2)\n",
        "scoreRdf2 = accuracy_score(y_testRdf2, predictRdf2)\n",
        "print('RandomForestClassifier prediction score: %s' % scoreRdf2)"
      ],
      "execution_count": null,
      "outputs": [
        {
          "output_type": "stream",
          "name": "stdout",
          "text": [
            "RandomForestClassifier prediction score: 1.0\n"
          ]
        }
      ]
    },
    {
      "cell_type": "markdown",
      "metadata": {
        "id": "YXd-RxoWcO-E"
      },
      "source": [
        "• Task 4: Visualize clustering or hidden representation of ML algorithm results (20 points)"
      ]
    },
    {
      "cell_type": "code",
      "metadata": {
        "colab": {
          "base_uri": "https://localhost:8080/",
          "height": 265
        },
        "id": "xgQqQ--OeIL_",
        "outputId": "1f5f9c17-e0b8-46c2-8e65-c772e1641563"
      },
      "source": [
        "#data with Fixed length\n",
        "#TSNE\n",
        "tsne = TSNE(n_components=2,random_state=10,learning_rate=100,perplexity=30)\n",
        "Xf_2d=tsne.fit_transform(Xf)\n",
        "for i,c,l in zip([0,1],['b','r'],['benign','malicious']):\n",
        "  plt.scatter(Xf_2d[Yf==i,0],Xf_2d[Yf==i,1],c=c,label=l,s=1)\n",
        "  #Convert x value with (Y==0) to x, y value with (Y==0) to y\n",
        "  #Convert x value with (Y==1) to x, y value with (Y==1) to y\n",
        "\n",
        "plt.legend()\n",
        "plt.show()"
      ],
      "execution_count": 8,
      "outputs": [
        {
          "output_type": "display_data",
          "data": {
            "image/png": "[encoded data removed]",
            "text/plain": [
              "<Figure size 432x288 with 1 Axes>"
            ]
          },
          "metadata": {
            "needs_background": "light"
          }
        }
      ]
    },
    {
      "cell_type": "code",
      "metadata": {
        "colab": {
          "base_uri": "https://localhost:8080/",
          "height": 265
        },
        "id": "sm0FxMSiiu5z",
        "outputId": "98462253-34c5-45ac-e52a-a4a5682baa0f"
      },
      "source": [
        "#data with Fixed length\n",
        "#K-Means Clustering\n",
        "dataK=pd.DataFrame.copy(data)\n",
        "Xf_2d2=Xf_2d\n",
        "\n",
        "dataK['cluster'] = k_means.fit_predict(Xf_2d2)\n",
        "\n",
        "plt.scatter(Xf_2d2[:,0], Xf_2d2[:,1], c=dataK.cluster.map({0:'b', 1:'r'}),s=1)\n",
        "plt.scatter(k_means.cluster_centers_[0, 0], k_means.cluster_centers_[0, 1], s=100, c='b')\n",
        "plt.scatter(k_means.cluster_centers_[1, 0], k_means.cluster_centers_[1, 1], s=100, c='r')\n",
        "\n",
        "plt.show()"
      ],
      "execution_count": 11,
      "outputs": [
        {
          "output_type": "display_data",
          "data": {
            "image/png": "[encoded data removed]",
            "text/plain": [
              "<Figure size 432x288 with 1 Axes>"
            ]
          },
          "metadata": {
            "needs_background": "light"
          }
        }
      ]
    },
    {
      "cell_type": "code",
      "metadata": {
        "id": "Qm9MnAHAmDMc",
        "colab": {
          "base_uri": "https://localhost:8080/"
        },
        "outputId": "bbb3a62a-bdd2-4908-f9cc-f6d4f1dbb413"
      },
      "source": [
        "print(data)\n",
        "print(dataK)\n",
        "\n",
        "print(Xf)\n",
        "print(Xf_2d)\n",
        "print(Xf_2d2)"
      ],
      "execution_count": 12,
      "outputs": [
        {
          "output_type": "stream",
          "name": "stdout",
          "text": [
            "      class  1    2  3  4  5     6  ...  291  292  293  294  295   296   297\n",
            "0         0 -1 -1.0 -1 -1  1 -1.00  ...   -1   -1   -1 -1.0   -1  40.0  24.0\n",
            "1         0 -1 -1.0  1 -1 -1 -1.00  ...   -1   -1   -1 -1.0   -1  -1.0  -1.0\n",
            "2         0 -1 -1.0  1 -1 -1  0.02  ...   -1   -1   -1 -1.0   -1  -1.0  -1.0\n",
            "3         0 -1  0.0 -1 -1 -1 -1.00  ...   -1   -1   -1 -1.0   -1  -1.0  -1.0\n",
            "4         0 -1 -1.0 -1 -1 -1 -1.00  ...   -1   -1   -1 -1.0   -1  -1.0  -1.0\n",
            "...     ... ..  ... .. .. ..   ...  ...  ...  ...  ...  ...  ...   ...   ...\n",
            "6386      1 -1 -1.0 -1 -1 -1 -1.00  ...   -1   -1    1 -1.0   -1  -1.0  -1.0\n",
            "6387      1 -1 -1.0 -1 -1 -1 -1.00  ...   -1   -1   -1 -1.0   -1  -1.0  -1.0\n",
            "6388      1  1 -1.0 -1 -1 -1 -1.00  ...   -1   -1    1 -1.0   -1  -1.0  -1.0\n",
            "6389      1 -1 -1.0 -1 -1 -1 -1.00  ...   -1   -1    1 -1.0   -1  -1.0  -1.0\n",
            "6390      1 -1 -1.0 -1 -1 -1 -1.00  ...   -1   -1   -1 -1.0   -1  -1.0  -1.0\n",
            "\n",
            "[6391 rows x 298 columns]\n",
            "      class  1    2  3  4  5     6  ...  292  293  294  295   296   297  cluster\n",
            "0         0 -1 -1.0 -1 -1  1 -1.00  ...   -1   -1 -1.0   -1  40.0  24.0        0\n",
            "1         0 -1 -1.0  1 -1 -1 -1.00  ...   -1   -1 -1.0   -1  -1.0  -1.0        1\n",
            "2         0 -1 -1.0  1 -1 -1  0.02  ...   -1   -1 -1.0   -1  -1.0  -1.0        1\n",
            "3         0 -1  0.0 -1 -1 -1 -1.00  ...   -1   -1 -1.0   -1  -1.0  -1.0        0\n",
            "4         0 -1 -1.0 -1 -1 -1 -1.00  ...   -1   -1 -1.0   -1  -1.0  -1.0        0\n",
            "...     ... ..  ... .. .. ..   ...  ...  ...  ...  ...  ...   ...   ...      ...\n",
            "6386      1 -1 -1.0 -1 -1 -1 -1.00  ...   -1    1 -1.0   -1  -1.0  -1.0        1\n",
            "6387      1 -1 -1.0 -1 -1 -1 -1.00  ...   -1   -1 -1.0   -1  -1.0  -1.0        1\n",
            "6388      1  1 -1.0 -1 -1 -1 -1.00  ...   -1    1 -1.0   -1  -1.0  -1.0        1\n",
            "6389      1 -1 -1.0 -1 -1 -1 -1.00  ...   -1    1 -1.0   -1  -1.0  -1.0        1\n",
            "6390      1 -1 -1.0 -1 -1 -1 -1.00  ...   -1   -1 -1.0   -1  -1.0  -1.0        1\n",
            "\n",
            "[6391 rows x 299 columns]\n",
            "[[-1. -1. -1. ... -1. 40. 24.]\n",
            " [-1. -1.  1. ... -1. -1. -1.]\n",
            " [-1. -1.  1. ... -1. -1. -1.]\n",
            " ...\n",
            " [ 1. -1. -1. ... -1. -1. -1.]\n",
            " [-1. -1. -1. ... -1. -1. -1.]\n",
            " [-1. -1. -1. ... -1. -1. -1.]]\n",
            "[[-26.696552  -36.062355 ]\n",
            " [ 59.466866    8.627937 ]\n",
            " [ 70.71374     8.341565 ]\n",
            " ...\n",
            " [ 21.941986   83.95585  ]\n",
            " [  4.220724    2.7510436]\n",
            " [ -3.4386923  28.020985 ]]\n",
            "[[-26.696552  -36.062355 ]\n",
            " [ 59.466866    8.627937 ]\n",
            " [ 70.71374     8.341565 ]\n",
            " ...\n",
            " [ 21.941986   83.95585  ]\n",
            " [  4.220724    2.7510436]\n",
            " [ -3.4386923  28.020985 ]]\n"
          ]
        }
      ]
    },
    {
      "cell_type": "code",
      "metadata": {
        "colab": {
          "base_uri": "https://localhost:8080/",
          "height": 999
        },
        "id": "fSszjZzd2xXe",
        "outputId": "65417fbd-92e2-49d8-8329-17995540d5ca"
      },
      "source": [
        "#data with Variable length\n",
        "#TSNE\n",
        "tsne = TSNE(n_components=2,random_state=10,learning_rate=100,perplexity=30)\n",
        "X_2d2=tsne.fit_transform(X)\n",
        "for i,c,l in zip([0,1],['b','r'],['benign','malicious']):\n",
        "  plt.scatter(X_2d2[Y==i,0],X_2d2[Y==i,1],c=c,label=l,s=1)\n",
        "  #Convert x value with (Y==0) to x, y value with (Y==0) to y\n",
        "  #Convert x value with (Y==1) to x, y value with (Y==1) to y\n",
        "\n",
        "plt.legend()\n",
        "plt.show()\n",
        "\n",
        "#data with Variable length\n",
        "#K-Means Clustering\n",
        "data_df = pd.DataFrame(padded_files) \n",
        "dataK2=pd.DataFrame.copy(data_df)\n",
        "X_2dd2=X_2d2\n",
        "\n",
        "dataK2['cluster'] = k_means.fit_predict(X_2dd2)\n",
        "\n",
        "plt.scatter(X_2dd2[:,0], X_2dd2[:,1], c=dataK2.cluster.map({0:'b', 1:'r'}),s=1)\n",
        "plt.scatter(k_means.cluster_centers_[0, 0], k_means.cluster_centers_[0, 1], s=100, c='b')\n",
        "plt.scatter(k_means.cluster_centers_[1, 0], k_means.cluster_centers_[1, 1], s=100, c='r')\n",
        "\n",
        "plt.show()\n",
        "print(data_df)\n",
        "print(dataK2)"
      ],
      "execution_count": null,
      "outputs": [
        {
          "output_type": "display_data",
          "data": {
            "image/png": "[encoded data removed]",
            "text/plain": [
              "<Figure size 432x288 with 1 Axes>"
            ]
          },
          "metadata": {
            "needs_background": "light"
          }
        },
        {
          "output_type": "display_data",
          "data": {
            "image/png": "[encoded data removed]",
            "text/plain": [
              "<Figure size 432x288 with 1 Axes>"
            ]
          },
          "metadata": {
            "needs_background": "light"
          }
        },
        {
          "output_type": "stream",
          "name": "stdout",
          "text": [
            "     0        1        2        3        ...  1142757  1142758  1142759  1142760\n",
            "0         -1       -1       -1       -1  ...        0        0        0        0\n",
            "1         -1       -1       -1       -1  ...        0        0        0        0\n",
            "2         -1       -1       -1       -1  ...        0        0        0        0\n",
            "3         -1       -1       -1       -1  ...        0        0        0        0\n",
            "4         -1       -1       -1       -1  ...        0        0        0        0\n",
            "..       ...      ...      ...      ...  ...      ...      ...      ...      ...\n",
            "295       -1       -1       -1       -1  ...        0        0        0        0\n",
            "296       -1       -1       -1       -1  ...        0        0        0        0\n",
            "297       -1       -1       -1       -1  ...        0        0        0        0\n",
            "298       -1       -1       -1       -1  ...        0        0        0        0\n",
            "299       -1       -1       -1       -1  ...        0        0        0        0\n",
            "\n",
            "[300 rows x 1142761 columns]\n",
            "     0  1  2  3  4  5  ...  1142756  1142757  1142758  1142759  1142760  cluster\n",
            "0   -1 -1 -1 -1 -1 -1  ...        0        0        0        0        0        0\n",
            "1   -1 -1 -1 -1 -1 -1  ...        0        0        0        0        0        1\n",
            "2   -1 -1 -1 -1 -1 -1  ...        0        0        0        0        0        0\n",
            "3   -1 -1 -1 -1 -1 -1  ...        0        0        0        0        0        0\n",
            "4   -1 -1 -1 -1 -1 -1  ...        0        0        0        0        0        1\n",
            "..  .. .. .. .. .. ..  ...      ...      ...      ...      ...      ...      ...\n",
            "295 -1 -1 -1 -1 -1 -1  ...        0        0        0        0        0        0\n",
            "296 -1 -1 -1 -1 -1 -1  ...        0        0        0        0        0        0\n",
            "297 -1 -1 -1 -1 -1 -1  ...        0        0        0        0        0        0\n",
            "298 -1 -1 -1 -1 -1 -1  ...        0        0        0        0        0        0\n",
            "299 -1 -1 -1 -1 -1 -1  ...        0        0        0        0        0        1\n",
            "\n",
            "[300 rows x 1142762 columns]\n"
          ]
        }
      ]
    }
  ]
}