{
  "nbformat": 4,
  "nbformat_minor": 0,
  "metadata": {
    "colab": {
      "name": "빅보_최종.ipynb",
      "provenance": [],
      "collapsed_sections": []
    },
    "kernelspec": {
      "name": "python3",
      "display_name": "Python 3"
    },
    "language_info": {
      "name": "python"
    },
    "accelerator": "GPU"
  },
  "cells": [
    {
      "cell_type": "code",
      "metadata": {
        "colab": {
          "base_uri": "https://localhost:8080/"
        },
        "id": "HcJzTZQJczUS",
        "outputId": "88458019-155e-4ee1-d658-a70f3fe34ae7"
      },
      "source": [
        "#Google Drive Mount\n",
        "from google.colab import drive\n",
        "drive.mount('/content/drive')"
      ],
      "execution_count": 2,
      "outputs": [
        {
          "output_type": "stream",
          "name": "stdout",
          "text": [
            "Drive already mounted at /content/drive; to attempt to forcibly remount, call drive.mount(\"/content/drive\", force_remount=True).\n"
          ]
        }
      ]
    },
    {
      "cell_type": "code",
      "metadata": {
        "id": "KGaiu65iYby1"
      },
      "source": [
        "#Library Import\n",
        "from sklearn.datasets import make_blobs\n",
        "\n",
        "import os\n",
        "import pandas as pd\n",
        "import numpy as np\n",
        "import math\n",
        "import scipy as sp\n",
        "import seaborn as sns\n",
        "import tensorflow as tf\n",
        "import matplotlib.pyplot as plt \n",
        "from warnings import filterwarnings\n",
        "filterwarnings('ignore')\n",
        "%matplotlib inline\n",
        "\n",
        "from keras.models import Sequential,Model\n",
        "from sklearn.svm import SVC \n",
        "from sklearn.linear_model import LogisticRegression\n",
        "from sklearn.ensemble import RandomForestClassifier\n",
        "from sklearn.model_selection import train_test_split\n",
        "from sklearn.metrics import accuracy_score\n",
        "from sklearn.manifold import TSNE\n",
        "from sklearn.cluster import KMeans\n",
        "\n",
        "import torch\n",
        "import torch.nn as nn "
      ],
      "execution_count": 3,
      "outputs": []
    },
    {
      "cell_type": "markdown",
      "metadata": {
        "id": "GNn00EcXZOVy"
      },
      "source": [
        "*`•`* Task 1: Implement data load \n",
        "function for fixed length (10 points)"
      ]
    },
    {
      "cell_type": "code",
      "metadata": {
        "id": "ge-VVqORZQDn",
        "colab": {
          "base_uri": "https://localhost:8080/"
        },
        "outputId": "bfb49671-e95b-42aa-fb97-c72d01005221"
      },
      "source": [
        "data=pd.read_csv('/content/drive/MyDrive/21-2빅데이터보안/train.csv')\n",
        "datas=pd.DataFrame(data.iloc[:,0:])\n",
        "data.columns=list(data.iloc[:,0:].columns)\n",
        "datas['class']=data['class']\n",
        "data_drop=datas.drop('class',axis=1)\n",
        "\n",
        "Xf=data_drop.values\n",
        "Yf=datas['class'] #.map({'M\":1, \"B\":0})\n",
        "\n",
        "print(Xf)\n",
        "print('\\n\\n')\n",
        "print(Yf)"
      ],
      "execution_count": 4,
      "outputs": [
        {
          "output_type": "stream",
          "name": "stdout",
          "text": [
            "[[-1. -1. -1. ... -1. 40. 24.]\n",
            " [-1. -1.  1. ... -1. -1. -1.]\n",
            " [-1. -1.  1. ... -1. -1. -1.]\n",
            " ...\n",
            " [ 1. -1. -1. ... -1. -1. -1.]\n",
            " [-1. -1. -1. ... -1. -1. -1.]\n",
            " [-1. -1. -1. ... -1. -1. -1.]]\n",
            "\n",
            "\n",
            "\n",
            "0       0\n",
            "1       0\n",
            "2       0\n",
            "3       0\n",
            "4       0\n",
            "       ..\n",
            "6386    1\n",
            "6387    1\n",
            "6388    1\n",
            "6389    1\n",
            "6390    1\n",
            "Name: class, Length: 6391, dtype: int64\n"
          ]
        }
      ]
    },
    {
      "cell_type": "markdown",
      "metadata": {
        "id": "p_yT9pOrcwPV"
      },
      "source": [
        "* Task 2: Implement data load function for variable length (25 points)"
      ]
    },
    {
      "cell_type": "code",
      "metadata": {
        "colab": {
          "base_uri": "https://localhost:8080/"
        },
        "id": "MjAtnjQVc4E_",
        "outputId": "957436ec-6a1d-4d03-b7dc-4eccf449a120"
      },
      "source": [
        "import glob\n",
        "file_list = sorted(glob.glob('/content/drive/MyDrive/21-2빅데이터보안/data/*.csv'))\n",
        "\n",
        "#'Malicious:1' 150 files, 'Benign:0' 150 files\n",
        "print(len(file_list))"
      ],
      "execution_count": 5,
      "outputs": [
        {
          "output_type": "stream",
          "name": "stdout",
          "text": [
            "300\n"
          ]
        }
      ]
    },
    {
      "cell_type": "code",
      "metadata": {
        "id": "87prFujRc4CA",
        "colab": {
          "base_uri": "https://localhost:8080/"
        },
        "outputId": "9d9c9f02-852b-4e0e-98ed-84e51b1ef02e"
      },
      "source": [
        "path = '/content/drive/MyDrive/21-2빅데이터보안/data'\n",
        "\n",
        "#Add a list of file names to file_label\n",
        "file_list = os.listdir(path)\n",
        "file_labels = [file for file in file_list]\n",
        "print(len(file_labels))"
      ],
      "execution_count": 6,
      "outputs": [
        {
          "output_type": "stream",
          "name": "stdout",
          "text": [
            "300\n"
          ]
        }
      ]
    },
    {
      "cell_type": "code",
      "metadata": {
        "id": "cXjHVoKedH5g"
      },
      "source": [
        "#Add a label for files to Y\n",
        "#Malicious:1, Benign:0\n",
        "Y = []\n",
        "\n",
        "for i in range(300):\n",
        "  if file_list[i].startswith('0'):\n",
        "    Y.append(0)\n",
        "  else:\n",
        "    Y.append(1)"
      ],
      "execution_count": 7,
      "outputs": []
    },
    {
      "cell_type": "code",
      "metadata": {
        "id": "Eq7cMz6hdH47",
        "colab": {
          "base_uri": "https://localhost:8080/"
        },
        "outputId": "51351894-da67-42e3-fa22-f3952696c4e7"
      },
      "source": [
        "print(Y)\n",
        "print(len(Y))"
      ],
      "execution_count": 8,
      "outputs": [
        {
          "output_type": "stream",
          "name": "stdout",
          "text": [
            "[1, 1, 1, 1, 1, 1, 1, 1, 1, 1, 1, 1, 1, 1, 1, 1, 1, 1, 1, 1, 1, 1, 1, 1, 1, 1, 1, 1, 1, 1, 1, 1, 1, 1, 1, 1, 1, 1, 1, 1, 1, 1, 1, 1, 1, 1, 1, 1, 1, 1, 1, 1, 1, 1, 1, 1, 1, 1, 1, 1, 1, 1, 1, 1, 1, 1, 1, 1, 1, 1, 1, 1, 1, 1, 1, 1, 1, 1, 1, 1, 1, 1, 1, 1, 1, 1, 0, 1, 1, 1, 1, 1, 0, 1, 1, 1, 1, 1, 1, 1, 1, 1, 1, 1, 1, 1, 1, 1, 1, 1, 1, 1, 1, 1, 1, 1, 1, 1, 1, 1, 1, 1, 1, 1, 1, 1, 1, 1, 1, 1, 1, 1, 1, 1, 1, 1, 1, 1, 1, 1, 1, 1, 1, 1, 1, 1, 1, 1, 1, 1, 1, 1, 0, 0, 0, 0, 0, 0, 0, 0, 0, 0, 0, 0, 0, 0, 0, 0, 0, 0, 0, 0, 0, 0, 0, 0, 0, 0, 0, 0, 0, 0, 0, 0, 0, 0, 0, 0, 0, 0, 0, 0, 0, 0, 0, 0, 0, 0, 0, 0, 0, 0, 0, 0, 0, 0, 0, 0, 0, 0, 0, 0, 0, 0, 0, 0, 0, 0, 0, 0, 0, 0, 0, 0, 0, 0, 0, 0, 0, 0, 0, 0, 0, 0, 0, 0, 0, 0, 0, 0, 0, 0, 0, 0, 0, 0, 0, 0, 0, 0, 0, 0, 0, 0, 0, 0, 0, 0, 0, 0, 0, 0, 0, 0, 0, 0, 0, 0, 0, 0, 0, 0, 0, 0, 0, 0, 0, 0, 0, 0, 0, 0, 0, 0, 0, 0, 0, 0, 0, 0, 0, 0, 0, 0, 0, 0, 0, 0, 0, 0]\n",
            "300\n"
          ]
        }
      ]
    },
    {
      "cell_type": "code",
      "metadata": {
        "id": "8SfZot6udBie"
      },
      "source": [
        "#Add a file data to files\n",
        "#Receive files as 2D, convert it back into 1D, and add it to the files array.\n",
        "files = []\n",
        "\n",
        "for i in range(300):\n",
        "    a = pd.read_csv(path+'/'+file_labels[i], encoding='cp1252')\n",
        "    a_2d = a.to_numpy()\n",
        "    a_1d = a_2d.flatten()\n",
        "    files.append(a_1d)"
      ],
      "execution_count": 9,
      "outputs": []
    },
    {
      "cell_type": "code",
      "metadata": {
        "id": "1BACT-oIdH6J",
        "colab": {
          "base_uri": "https://localhost:8080/"
        },
        "outputId": "3c193ee6-5d71-4672-ee88-be7dda269f7a"
      },
      "source": [
        "from keras.preprocessing.sequence import pad_sequences\n",
        "from keras import backend as K\n",
        "\n",
        "#Padding -1 based on the length of the longest file\n",
        "padded_files = pad_sequences(files, value=-1)\n",
        "\n",
        "print(padded_files)\n",
        "padded_files.shape"
      ],
      "execution_count": 10,
      "outputs": [
        {
          "output_type": "stream",
          "name": "stdout",
          "text": [
            "[[-1 -1 -1 ...  0  0  0]\n",
            " [-1 -1 -1 ...  0  0  0]\n",
            " [-1 -1 -1 ...  0  0  0]\n",
            " ...\n",
            " [-1 -1 -1 ...  0  0  0]\n",
            " [-1 -1 -1 ...  0  0  0]\n",
            " [-1 -1 -1 ...  0  0  0]]\n"
          ]
        },
        {
          "output_type": "execute_result",
          "data": {
            "text/plain": [
              "(300, 799236)"
            ]
          },
          "metadata": {},
          "execution_count": 10
        }
      ]
    },
    {
      "cell_type": "code",
      "metadata": {
        "id": "SgXADHJfdV1L",
        "colab": {
          "base_uri": "https://localhost:8080/"
        },
        "outputId": "19200895-0e4b-4a2c-b46b-8519f4d25ec6"
      },
      "source": [
        "X = np.array(padded_files)\n",
        "Y = np.array(Y)\n",
        "\n",
        "print(X.shape)\n",
        "print(Y.shape)"
      ],
      "execution_count": 11,
      "outputs": [
        {
          "output_type": "stream",
          "name": "stdout",
          "text": [
            "(300, 799236)\n",
            "(300,)\n"
          ]
        }
      ]
    },
    {
      "cell_type": "markdown",
      "metadata": {
        "id": "x0G5ObHfZclg"
      },
      "source": [
        "• Task 3: Implement K-means clustering or any ML algorithms (25 points)\n"
      ]
    },
    {
      "cell_type": "code",
      "metadata": {
        "id": "7ezbiYmqZhat",
        "colab": {
          "base_uri": "https://localhost:8080/"
        },
        "outputId": "a63eac6f-9569-4b93-fd0f-4748d150bd84"
      },
      "source": [
        "#data with Fixed length\n",
        "x_trainF, x_testF, y_trainF, y_testF = train_test_split(Xf, Yf, test_size = 0.1)\n",
        "\n",
        "#K-Means Clustering\n",
        "k_means=KMeans(n_clusters=2)\n",
        "k_means.fit(x_trainF)\n",
        "predictK=k_means.predict(x_testF)\n",
        "scoreK=accuracy_score(y_testF, predictK)\n",
        "print('k_means clustering prediction score: %s' % scoreK)\n",
        "\n",
        "#SVM \n",
        "clfSVC=Sequential()\n",
        "clfSVC=SVC(gamma='auto')\n",
        "clfSVC.fit(x_trainF, y_trainF)\n",
        "predictSVC = clfSVC.predict(x_testF)\n",
        "scoreSVC = accuracy_score(y_testF, predictSVC)\n",
        "print('svm prediction score: %s' % scoreSVC)\n",
        "\n",
        "#Logistic Regression\n",
        "clfLog=Sequential()\n",
        "clfLog=LogisticRegression()\n",
        "clfLog.fit(x_trainF, y_trainF)\n",
        "predictLog = clfLog.predict(x_testF)\n",
        "scoreLog = accuracy_score(y_testF, predictLog)\n",
        "print('LogisticRegression prediction score: %s' % scoreLog)\n",
        "\n",
        "#RandomForest Classifier\n",
        "clfRdf=Sequential()\n",
        "clfRdf=RandomForestClassifier()\n",
        "clfRdf.fit(x_trainF, y_trainF)\n",
        "predictRdf = clfRdf.predict(x_testF)\n",
        "scoreRdf = accuracy_score(y_testF, predictRdf)\n",
        "print('RandomForestClassifier prediction score: %s' % scoreRdf)\n"
      ],
      "execution_count": 12,
      "outputs": [
        {
          "output_type": "stream",
          "name": "stdout",
          "text": [
            "k_means clustering prediction score: 0.61875\n",
            "svm prediction score: 0.9046875\n",
            "LogisticRegression prediction score: 0.9859375\n",
            "RandomForestClassifier prediction score: 0.9921875\n"
          ]
        }
      ]
    },
    {
      "cell_type": "code",
      "metadata": {
        "id": "nAIvLYhMeIw1",
        "colab": {
          "base_uri": "https://localhost:8080/"
        },
        "outputId": "5ed5677b-77ea-4b35-b4a6-62601f4efc20"
      },
      "source": [
        "#data with Variable length\n",
        "x_trainV, x_testV, y_trainV, y_testV = train_test_split(X, Y, test_size = 0.1)\n",
        "\n",
        "#K-Means Clustering\n",
        "k_means=KMeans(n_clusters=2)\n",
        "k_means.fit(x_trainV)\n",
        "predictK=k_means.predict(x_testV)\n",
        "scoreK=accuracy_score(y_testV, predictK)\n",
        "print('k_means clustering prediction score: %s' % scoreK)\n",
        "\n",
        "#SVM\n",
        "clfSVC2=Sequential()\n",
        "clfSVC2=SVC(gamma='auto')\n",
        "clfSVC2.fit(x_trainV, y_trainV)\n",
        "predictSVC2 = clfSVC2.predict(x_testV)\n",
        "scoreSVC2 = accuracy_score(y_testV, predictSVC2)\n",
        "print('svm prediction score: %s' % scoreSVC2)\n",
        "\n",
        "#Logistic Regression\n",
        "clfLog2=Sequential()\n",
        "clfLog2=LogisticRegression()\n",
        "clfLog2.fit(x_trainV, y_trainV)\n",
        "predictLog2 = clfLog2.predict(x_testV)\n",
        "scoreLog2 = accuracy_score(y_testV, predictLog2)\n",
        "print('LogisticRegression prediction score: %s' % scoreLog2)\n",
        "\n",
        "#RandomForest Classifier\n",
        "clfRdf2=Sequential()\n",
        "clfRdf2=RandomForestClassifier()\n",
        "clfRdf2.fit(x_trainV, y_trainV)\n",
        "predictRdf2 = clfRdf2.predict(x_testV)\n",
        "scoreRdf2 = accuracy_score(y_testV, predictRdf2)\n",
        "print('RandomForestClassifier prediction score: %s' % scoreRdf2)"
      ],
      "execution_count": 14,
      "outputs": [
        {
          "output_type": "stream",
          "name": "stdout",
          "text": [
            "k_means clustering prediction score: 0.26666666666666666\n",
            "svm prediction score: 0.9333333333333333\n",
            "LogisticRegression prediction score: 0.9666666666666667\n",
            "RandomForestClassifier prediction score: 0.9666666666666667\n"
          ]
        }
      ]
    },
    {
      "cell_type": "markdown",
      "metadata": {
        "id": "YXd-RxoWcO-E"
      },
      "source": [
        "• Task 4: Visualize clustering or hidden representation of ML algorithm results (20 points)"
      ]
    },
    {
      "cell_type": "code",
      "metadata": {
        "colab": {
          "base_uri": "https://localhost:8080/",
          "height": 517
        },
        "id": "xgQqQ--OeIL_",
        "outputId": "259f96bd-4091-4854-f9e2-f2bf9458dba2"
      },
      "source": [
        "#data with Fixed length\n",
        "#TSNE\n",
        "tsne = TSNE(n_components=2)\n",
        "Xf_2d=tsne.fit_transform(Xf)\n",
        "for i,c,l in zip([0,1],['b','r'],['benign','malicious']):\n",
        "  plt.scatter(Xf_2d[Yf==i,0],Xf_2d[Yf==i,1],c=c,label=l,s=1)\n",
        "  #Convert x value with (Y==0) to x, y value with (Y==0) to y\n",
        "  #Convert x value with (Y==1) to x, y value with (Y==1) to y\n",
        "\n",
        "plt.legend()\n",
        "plt.show()\n",
        "\n",
        "#data with Fixed length\n",
        "#K-Means Clustering\n",
        "dataK=pd.DataFrame.copy(data)\n",
        "Xf_2d2=Xf_2d\n",
        "\n",
        "dataK['cluster'] = k_means.fit_predict(Xf_2d2)\n",
        "\n",
        "plt.scatter(Xf_2d2[:,0], Xf_2d2[:,1], c=dataK.cluster.map({0:'b', 1:'r'}),s=1)\n",
        "plt.scatter(k_means.cluster_centers_[0, 0], k_means.cluster_centers_[0, 1], s=100, c='b')\n",
        "plt.scatter(k_means.cluster_centers_[1, 0], k_means.cluster_centers_[1, 1], s=100, c='r')\n",
        "\n",
        "plt.show()"
      ],
      "execution_count": 44,
      "outputs": [
        {
          "output_type": "display_data",
          "data": {
            "text/plain": [
              "<Figure size 432x288 with 1 Axes>"
            ],
            "image/png": "[encoded data removed]"
          },
          "metadata": {
            "needs_background": "light"
          }
        },
        {
          "output_type": "display_data",
          "data": {
            "text/plain": [
              "<Figure size 432x288 with 1 Axes>"
            ],
            "image/png": "[encoded data removed]"
          },
          "metadata": {
            "needs_background": "light"
          }
        }
      ]
    },
    {
      "cell_type": "code",
      "metadata": {
        "colab": {
          "base_uri": "https://localhost:8080/",
          "height": 513
        },
        "id": "fSszjZzd2xXe",
        "outputId": "0de756fa-9ea8-4b01-c5f8-e4e457fa6e46"
      },
      "source": [
        "#data with Variable length\n",
        "#TSNE\n",
        "tsne = TSNE(n_components=2)\n",
        "X_2d2=tsne.fit_transform(X)\n",
        "for i,c,l in zip([0,1],['b','r'],['benign','malicious']):\n",
        "  plt.scatter(X_2d2[Y==i,0],X_2d2[Y==i,1],c=c,label=l,s=1)\n",
        "  #Convert x value with (Y==0) to x, y value with (Y==0) to y\n",
        "  #Convert x value with (Y==1) to x, y value with (Y==1) to y\n",
        "\n",
        "plt.legend()\n",
        "plt.show()\n",
        "\n",
        "#data with Variable length\n",
        "#K-Means Clustering\n",
        "data_df = pd.DataFrame(padded_files) \n",
        "dataK2=pd.DataFrame.copy(data_df)\n",
        "X_2dd2=X_2d2\n",
        "\n",
        "dataK2['cluster'] = k_means.fit_predict(X_2dd2)\n",
        "\n",
        "plt.scatter(X_2dd2[:,0], X_2dd2[:,1], c=dataK2.cluster.map({0:'b', 1:'r'}),s=1)\n",
        "plt.scatter(k_means.cluster_centers_[0, 0], k_means.cluster_centers_[0, 1], s=100, c='b')\n",
        "plt.scatter(k_means.cluster_centers_[1, 0], k_means.cluster_centers_[1, 1], s=100, c='r')\n",
        "\n",
        "plt.show()"
      ],
      "execution_count": 47,
      "outputs": [
        {
          "output_type": "display_data",
          "data": {
            "text/plain": [
              "<Figure size 432x288 with 1 Axes>"
            ],
            "image/png": "[encoded data removed]"
          },
          "metadata": {
            "needs_background": "light"
          }
        },
        {
          "output_type": "display_data",
          "data": {
            "text/plain": [
              "<Figure size 432x288 with 1 Axes>"
            ],
            "image/png": "[encoded data removed]"
          },
          "metadata": {
            "needs_background": "light"
          }
        }
      ]
    }
  ]
}